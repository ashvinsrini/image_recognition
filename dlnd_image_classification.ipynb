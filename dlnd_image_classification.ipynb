{
 "cells": [
  {
   "cell_type": "markdown",
   "metadata": {
    "collapsed": true,
    "deletable": true,
    "editable": true
   },
   "source": [
    "# Image Classification\n",
    "In this project, you'll classify images from the [CIFAR-10 dataset](https://www.cs.toronto.edu/~kriz/cifar.html).  The dataset consists of airplanes, dogs, cats, and other objects. You'll preprocess the images, then train a convolutional neural network on all the samples. The images need to be normalized and the labels need to be one-hot encoded.  You'll get to apply what you learned and build a convolutional, max pooling, dropout, and fully connected layers.  At the end, you'll get to see your neural network's predictions on the sample images.\n",
    "## Get the Data\n",
    "Run the following cell to download the [CIFAR-10 dataset for python](https://www.cs.toronto.edu/~kriz/cifar-10-python.tar.gz)."
   ]
  },
  {
   "cell_type": "code",
   "execution_count": 39,
   "metadata": {
    "collapsed": false,
    "deletable": true,
    "editable": true
   },
   "outputs": [
    {
     "name": "stdout",
     "output_type": "stream",
     "text": [
      "All files found!\n"
     ]
    }
   ],
   "source": [
    "\"\"\"\n",
    "DON'T MODIFY ANYTHING IN THIS CELL THAT IS BELOW THIS LINE\n",
    "\"\"\"\n",
    "from urllib.request import urlretrieve\n",
    "from os.path import isfile, isdir\n",
    "from tqdm import tqdm\n",
    "import problem_unittests as tests\n",
    "import tarfile\n",
    "\n",
    "cifar10_dataset_folder_path = 'cifar-10-batches-py'\n",
    "\n",
    "# Use Floyd's cifar-10 dataset if present\n",
    "floyd_cifar10_location = '/cifar/cifar-10-python.tar.gz'\n",
    "if isfile(floyd_cifar10_location):\n",
    "    tar_gz_path = floyd_cifar10_location\n",
    "else:\n",
    "    tar_gz_path = 'cifar-10-python.tar.gz'\n",
    "\n",
    "class DLProgress(tqdm):\n",
    "    last_block = 0\n",
    "\n",
    "    def hook(self, block_num=1, block_size=1, total_size=None):\n",
    "        self.total = total_size\n",
    "        self.update((block_num - self.last_block) * block_size)\n",
    "        self.last_block = block_num\n",
    "\n",
    "if not isfile(tar_gz_path):\n",
    "    with DLProgress(unit='B', unit_scale=True, miniters=1, desc='CIFAR-10 Dataset') as pbar:\n",
    "        urlretrieve(\n",
    "            'https://www.cs.toronto.edu/~kriz/cifar-10-python.tar.gz',\n",
    "            tar_gz_path,\n",
    "            pbar.hook)\n",
    "\n",
    "if not isdir(cifar10_dataset_folder_path):\n",
    "    with tarfile.open(tar_gz_path) as tar:\n",
    "        tar.extractall()\n",
    "        tar.close()\n",
    "\n",
    "\n",
    "tests.test_folder_path(cifar10_dataset_folder_path)"
   ]
  },
  {
   "cell_type": "markdown",
   "metadata": {
    "deletable": true,
    "editable": true
   },
   "source": [
    "## Explore the Data\n",
    "The dataset is broken into batches to prevent your machine from running out of memory.  The CIFAR-10 dataset consists of 5 batches, named `data_batch_1`, `data_batch_2`, etc.. Each batch contains the labels and images that are one of the following:\n",
    "* airplane\n",
    "* automobile\n",
    "* bird\n",
    "* cat\n",
    "* deer\n",
    "* dog\n",
    "* frog\n",
    "* horse\n",
    "* ship\n",
    "* truck\n",
    "\n",
    "Understanding a dataset is part of making predictions on the data.  Play around with the code cell below by changing the `batch_id` and `sample_id`. The `batch_id` is the id for a batch (1-5). The `sample_id` is the id for a image and label pair in the batch.\n",
    "\n",
    "Ask yourself \"What are all possible labels?\", \"What is the range of values for the image data?\", \"Are the labels in order or random?\".  Answers to questions like these will help you preprocess the data and end up with better predictions."
   ]
  },
  {
   "cell_type": "code",
   "execution_count": 41,
   "metadata": {
    "collapsed": false,
    "deletable": true,
    "editable": true
   },
   "outputs": [
    {
     "name": "stdout",
     "output_type": "stream",
     "text": [
      "\n",
      "Stats of batch 1:\n",
      "Samples: 10000\n",
      "Label Counts: {0: 1005, 1: 974, 2: 1032, 3: 1016, 4: 999, 5: 937, 6: 1030, 7: 1001, 8: 1025, 9: 981}\n",
      "First 20 Labels: [6, 9, 9, 4, 1, 1, 2, 7, 8, 3, 4, 7, 7, 2, 9, 9, 9, 3, 2, 6]\n",
      "\n",
      "Example of Image 6:\n",
      "Image - Min Value: 7 Max Value: 249\n",
      "Image - Shape: (32, 32, 3)\n",
      "Label - Label Id: 2 Name: bird\n"
     ]
    },
    {
     "data": {
      "image/png": "[encoded data removed]",
      "text/plain": [
       "<matplotlib.figure.Figure at 0x12dfbceb8>"
      ]
     },
     "metadata": {
      "image/png": {
       "height": 250,
       "width": 253
      }
     },
     "output_type": "display_data"
    }
   ],
   "source": [
    "%matplotlib inline\n",
    "%config InlineBackend.figure_format = 'retina'\n",
    "\n",
    "import helper\n",
    "import numpy as np\n",
    "\n",
    "# Explore the dataset\n",
    "batch_id = 1\n",
    "sample_id = 6\n",
    "helper.display_stats(cifar10_dataset_folder_path, batch_id, sample_id)"
   ]
  },
  {
   "cell_type": "code",
   "execution_count": 14,
   "metadata": {
    "collapsed": false,
    "deletable": true,
    "editable": true
   },
   "outputs": [
    {
     "data": {
      "text/plain": [
       "<function __main__.normalize>"
      ]
     },
     "execution_count": 14,
     "metadata": {},
     "output_type": "execute_result"
    }
   ],
   "source": [
    "normalize"
   ]
  },
  {
   "cell_type": "markdown",
   "metadata": {
    "deletable": true,
    "editable": true
   },
   "source": [
    "## Implement Preprocess Functions\n",
    "### Normalize\n",
    "In the cell below, implement the `normalize` function to take in image data, `x`, and return it as a normalized Numpy array. The values should be in the range of 0 to 1, inclusive.  The return object should be the same shape as `x`."
   ]
  },
  {
   "cell_type": "code",
   "execution_count": 43,
   "metadata": {
    "collapsed": false,
    "deletable": true,
    "editable": true
   },
   "outputs": [
    {
     "name": "stdout",
     "output_type": "stream",
     "text": [
      "Tests Passed\n"
     ]
    }
   ],
   "source": [
    "def normalize(x):\n",
    "    \"\"\"\n",
    "    Normalize a list of sample image data in the range of 0 to 1\n",
    "    : x: List of image data.  The image shape is (32, 32, 3)\n",
    "    : return: Numpy array of normalize data\n",
    "    \"\"\"\n",
    "    a = 0\n",
    "    b = 1\n",
    "    grayscale_min = 0\n",
    "    grayscale_max = 255\n",
    "    return a + (((x-grayscale_min)*(b-a))/(grayscale_max-grayscale_min))\n",
    "\n",
    "\n",
    "\"\"\"\n",
    "DON'T MODIFY ANYTHING IN THIS CELL THAT IS BELOW THIS LINE\n",
    "\"\"\"\n",
    "#x_hat=tests.test_normalize(normalize)\n",
    "tests.test_normalize(normalize)"
   ]
  },
  {
   "cell_type": "code",
   "execution_count": null,
   "metadata": {
    "collapsed": false,
    "deletable": true,
    "editable": true
   },
   "outputs": [],
   "source": []
  },
  {
   "cell_type": "markdown",
   "metadata": {
    "deletable": true,
    "editable": true
   },
   "source": [
    "### One-hot encode\n",
    "Just like the previous code cell, you'll be implementing a function for preprocessing.  This time, you'll implement the `one_hot_encode` function. The input, `x`, are a list of labels.  Implement the function to return the list of labels as One-Hot encoded Numpy array.  The possible values for labels are 0 to 9. The one-hot encoding function should return the same encoding for each value between each call to `one_hot_encode`.  Make sure to save the map of encodings outside the function.\n",
    "\n",
    "Hint: Don't reinvent the wheel."
   ]
  },
  {
   "cell_type": "code",
   "execution_count": 60,
   "metadata": {
    "collapsed": false,
    "deletable": true,
    "editable": true
   },
   "outputs": [
    {
     "name": "stdout",
     "output_type": "stream",
     "text": [
      "Tests Passed\n"
     ]
    }
   ],
   "source": [
    "def one_hot_encode(x):\n",
    "    \"\"\"\n",
    "    One hot encode a list of sample labels. Return a one-hot encoded vector for each label.\n",
    "    : x: List of sample Labels\n",
    "    : return: Numpy array of one-hot encoded labels\n",
    "    \"\"\"\n",
    "    # TODO: Implement Function\n",
    "    '''key_dict={0:[1,0,0,0,0,0,0,0,0,0],\n",
    "              1:[0,1,0,0,0,0,0,0,0,0],\n",
    "              2:[0,0,1,0,0,0,0,0,0,0],\n",
    "              3:[0,0,0,1,0,0,0,0,0,0],\n",
    "              4:[0,0,0,0,1,0,0,0,0,0],\n",
    "              5:[0,0,0,0,0,1,0,0,0,0],\n",
    "              6:[0,0,0,0,0,0,1,0,0,0],\n",
    "              7:[0,0,0,0,0,0,0,1,0,0],\n",
    "              8:[0,0,0,0,0,0,0,0,1,0],\n",
    "              9:[0,0,0,0,0,0,0,0,0,1]  \n",
    "             }\n",
    "    y=np.zeros([len(x),10])\n",
    "    for ii in range(len(x)):\n",
    "        y[ii]=key_dict[x[ii]]'''\n",
    "    \n",
    "    from sklearn.preprocessing import OneHotEncoder\n",
    "    import numpy as np\n",
    "    enc = OneHotEncoder(n_values=10)\n",
    "    y=enc.fit_transform(np.array(x).reshape(-1, 1)).toarray()\n",
    "        \n",
    "    \n",
    "    return y\n",
    "\n",
    "\n",
    "\"\"\"\n",
    "DON'T MODIFY ANYTHING IN THIS CELL THAT IS BELOW THIS LINE\n",
    "\"\"\"\n",
    "tests.test_one_hot_encode(one_hot_encode)"
   ]
  },
  {
   "cell_type": "markdown",
   "metadata": {
    "deletable": true,
    "editable": true
   },
   "source": [
    "### Randomize Data\n",
    "As you saw from exploring the data above, the order of the samples are randomized.  It doesn't hurt to randomize it again, but you don't need to for this dataset."
   ]
  },
  {
   "cell_type": "markdown",
   "metadata": {
    "deletable": true,
    "editable": true
   },
   "source": [
    "## Preprocess all the data and save it\n",
    "Running the code cell below will preprocess all the CIFAR-10 data and save it to file. The code below also uses 10% of the training data for validation."
   ]
  },
  {
   "cell_type": "code",
   "execution_count": 61,
   "metadata": {
    "collapsed": true,
    "deletable": true,
    "editable": true
   },
   "outputs": [],
   "source": [
    "\"\"\"\n",
    "DON'T MODIFY ANYTHING IN THIS CELL\n",
    "\"\"\"\n",
    "# Preprocess Training, Validation, and Testing Data\n",
    "helper.preprocess_and_save_data(cifar10_dataset_folder_path, normalize, one_hot_encode)"
   ]
  },
  {
   "cell_type": "markdown",
   "metadata": {
    "deletable": true,
    "editable": true
   },
   "source": [
    "# Check Point\n",
    "This is your first checkpoint.  If you ever decide to come back to this notebook or have to restart the notebook, you can start from here.  The preprocessed data has been saved to disk."
   ]
  },
  {
   "cell_type": "code",
   "execution_count": 25,
   "metadata": {
    "collapsed": true,
    "deletable": true,
    "editable": true
   },
   "outputs": [],
   "source": [
    "\"\"\"\n",
    "DON'T MODIFY ANYTHING IN THIS CELL\n",
    "\"\"\"\n",
    "import pickle\n",
    "import problem_unittests as tests\n",
    "import helper\n",
    "\n",
    "# Load the Preprocessed Validation data\n",
    "valid_features, valid_labels = pickle.load(open('preprocess_validation.p', mode='rb'))"
   ]
  },
  {
   "cell_type": "markdown",
   "metadata": {
    "deletable": true,
    "editable": true
   },
   "source": [
    "## Build the network\n",
    "For the neural network, you'll build each layer into a function.  Most of the code you've seen has been outside of functions. To test your code more thoroughly, we require that you put each layer in a function.  This allows us to give you better feedback and test for simple mistakes using our unittests before you submit your project.\n",
    "\n",
    ">**Note:** If you're finding it hard to dedicate enough time for this course each week, we've provided a small shortcut to this part of the project. In the next couple of problems, you'll have the option to use classes from the [TensorFlow Layers](https://www.tensorflow.org/api_docs/python/tf/layers) or [TensorFlow Layers (contrib)](https://www.tensorflow.org/api_guides/python/contrib.layers) packages to build each layer, except the layers you build in the \"Convolutional and Max Pooling Layer\" section.  TF Layers is similar to Keras's and TFLearn's abstraction to layers, so it's easy to pickup.\n",
    "\n",
    ">However, if you would like to get the most out of this course, try to solve all the problems _without_ using anything from the TF Layers packages. You **can** still use classes from other packages that happen to have the same name as ones you find in TF Layers! For example, instead of using the TF Layers version of the `conv2d` class, [tf.layers.conv2d](https://www.tensorflow.org/api_docs/python/tf/layers/conv2d), you would want to use the TF Neural Network version of `conv2d`, [tf.nn.conv2d](https://www.tensorflow.org/api_docs/python/tf/nn/conv2d). \n",
    "\n",
    "Let's begin!\n",
    "\n",
    "### Input\n",
    "The neural network needs to read the image data, one-hot encoded labels, and dropout keep probability. Implement the following functions\n",
    "* Implement `neural_net_image_input`\n",
    " * Return a [TF Placeholder](https://www.tensorflow.org/api_docs/python/tf/placeholder)\n",
    " * Set the shape using `image_shape` with batch size set to `None`.\n",
    " * Name the TensorFlow placeholder \"x\" using the TensorFlow `name` parameter in the [TF Placeholder](https://www.tensorflow.org/api_docs/python/tf/placeholder).\n",
    "* Implement `neural_net_label_input`\n",
    " * Return a [TF Placeholder](https://www.tensorflow.org/api_docs/python/tf/placeholder)\n",
    " * Set the shape using `n_classes` with batch size set to `None`.\n",
    " * Name the TensorFlow placeholder \"y\" using the TensorFlow `name` parameter in the [TF Placeholder](https://www.tensorflow.org/api_docs/python/tf/placeholder).\n",
    "* Implement `neural_net_keep_prob_input`\n",
    " * Return a [TF Placeholder](https://www.tensorflow.org/api_docs/python/tf/placeholder) for dropout keep probability.\n",
    " * Name the TensorFlow placeholder \"keep_prob\" using the TensorFlow `name` parameter in the [TF Placeholder](https://www.tensorflow.org/api_docs/python/tf/placeholder).\n",
    "\n",
    "These names will be used at the end of the project to load your saved model.\n",
    "\n",
    "Note: `None` for shapes in TensorFlow allow for a dynamic size."
   ]
  },
  {
   "cell_type": "code",
   "execution_count": 26,
   "metadata": {
    "collapsed": false,
    "deletable": true,
    "editable": true
   },
   "outputs": [
    {
     "name": "stdout",
     "output_type": "stream",
     "text": [
      "Image Input Tests Passed.\n",
      "Label Input Tests Passed.\n",
      "Keep Prob Tests Passed.\n"
     ]
    }
   ],
   "source": [
    "import tensorflow as tf\n",
    "\n",
    "def neural_net_image_input(image_shape):\n",
    "    \"\"\"\n",
    "    Return a Tensor for a batch of image input\n",
    "    : image_shape: Shape of the images\n",
    "    : return: Tensor for image input.\n",
    "    \"\"\"\n",
    "    # TODO: Implement Function\n",
    "    \n",
    "    return tf.placeholder(tf.float32, shape=((None,)+ image_shape), name='x')\n",
    "\n",
    "\n",
    "def neural_net_label_input(n_classes):\n",
    "    \"\"\"\n",
    "    Return a Tensor for a batch of label input\n",
    "    : n_classes: Number of classes\n",
    "    : return: Tensor for label input.\n",
    "    \"\"\"\n",
    "    # TODO: Implement Function\n",
    "    return tf.placeholder(tf.float32, shape=(None, n_classes), name='y')\n",
    "\n",
    "\n",
    "def neural_net_keep_prob_input():\n",
    "    \"\"\"\n",
    "    Return a Tensor for keep probability\n",
    "    : return: Tensor for keep probability.\n",
    "    \"\"\"\n",
    "    # TODO: Implement Function\n",
    "    \n",
    "    return tf.placeholder(tf.float32, shape=(None), name='keep_prob')\n",
    "\n",
    "\n",
    "\"\"\"\n",
    "DON'T MODIFY ANYTHING IN THIS CELL THAT IS BELOW THIS LINE\n",
    "\"\"\"\n",
    "tf.reset_default_graph()\n",
    "tests.test_nn_image_inputs(neural_net_image_input)\n",
    "tests.test_nn_label_inputs(neural_net_label_input)\n",
    "tests.test_nn_keep_prob_inputs(neural_net_keep_prob_input)"
   ]
  },
  {
   "cell_type": "markdown",
   "metadata": {
    "deletable": true,
    "editable": true
   },
   "source": [
    "### Convolution and Max Pooling Layer\n",
    "Convolution layers have a lot of success with images. For this code cell, you should implement the function `conv2d_maxpool` to apply convolution then max pooling:\n",
    "* Create the weight and bias using `conv_ksize`, `conv_num_outputs` and the shape of `x_tensor`.\n",
    "* Apply a convolution to `x_tensor` using weight and `conv_strides`.\n",
    " * We recommend you use same padding, but you're welcome to use any padding.\n",
    "* Add bias\n",
    "* Add a nonlinear activation to the convolution.\n",
    "* Apply Max Pooling using `pool_ksize` and `pool_strides`.\n",
    " * We recommend you use same padding, but you're welcome to use any padding.\n",
    "\n",
    "**Note:** You **can't** use [TensorFlow Layers](https://www.tensorflow.org/api_docs/python/tf/layers) or [TensorFlow Layers (contrib)](https://www.tensorflow.org/api_guides/python/contrib.layers) for **this** layer, but you can still use TensorFlow's [Neural Network](https://www.tensorflow.org/api_docs/python/tf/nn) package. You may still use the shortcut option for all the **other** layers."
   ]
  },
  {
   "cell_type": "code",
   "execution_count": 33,
   "metadata": {
    "collapsed": false,
    "deletable": true,
    "editable": true
   },
   "outputs": [
    {
     "name": "stdout",
     "output_type": "stream",
     "text": [
      "Tests Passed\n"
     ]
    }
   ],
   "source": [
    "def conv2d_maxpool(x_tensor, conv_num_outputs, conv_ksize, conv_strides, pool_ksize, pool_strides):\n",
    "    \"\"\"\n",
    "    Apply convolution then max pooling to x_tensor\n",
    "    :param x_tensor: TensorFlow Tensor\n",
    "    :param conv_num_outputs: Number of outputs for the convolutional layer\n",
    "    :param conv_ksize: kernal size 2-D Tuple for the convolutional layer\n",
    "    :param conv_strides: Stride 2-D Tuple for convolution\n",
    "    :param pool_ksize: kernal size 2-D Tuple for pool\n",
    "    :param pool_strides: Stride 2-D Tuple for pool\n",
    "    : return: A tensor that represents convolution and max pooling of x_tensor\n",
    "    \"\"\"\n",
    "    import numpy as np\n",
    "    # TODO: Implement Function\n",
    "    filter_weights=tf.Variable(tf.truncated_normal((conv_ksize[0],conv_ksize[1],x_tensor.get_shape().as_list()[-1],conv_num_outputs),stddev=0.04))\n",
    "    filter_bias=tf.Variable(tf.zeros(conv_num_outputs))\n",
    "    \n",
    "    conv_layer=tf.nn.conv2d(x_tensor,filter_weights,strides=[1,conv_strides[0],conv_strides[1],1],padding='SAME')\n",
    "    conv_layer=tf.nn.bias_add(conv_layer,filter_bias)\n",
    "    \n",
    "    conv_layer=tf.nn.relu(conv_layer)\n",
    "    conv_layer=tf.nn.max_pool(\n",
    "        conv_layer,ksize=[1,pool_ksize[0],pool_ksize[1],1],\n",
    "        strides=[1,pool_strides[0],pool_strides[1],1],\n",
    "        padding='SAME')\n",
    "    \n",
    "    return conv_layer\n",
    "\n",
    "\n",
    "\"\"\"\n",
    "DON'T MODIFY ANYTHING IN THIS CELL THAT IS BELOW THIS LINE\n",
    "\"\"\"\n",
    "tests.test_con_pool(conv2d_maxpool)"
   ]
  },
  {
   "cell_type": "markdown",
   "metadata": {
    "deletable": true,
    "editable": true
   },
   "source": [
    "### Flatten Layer\n",
    "Implement the `flatten` function to change the dimension of `x_tensor` from a 4-D tensor to a 2-D tensor.  The output should be the shape (*Batch Size*, *Flattened Image Size*). Shortcut option: you can use classes from the [TensorFlow Layers](https://www.tensorflow.org/api_docs/python/tf/layers) or [TensorFlow Layers (contrib)](https://www.tensorflow.org/api_guides/python/contrib.layers) packages for this layer. For more of a challenge, only use other TensorFlow packages."
   ]
  },
  {
   "cell_type": "code",
   "execution_count": 34,
   "metadata": {
    "collapsed": false,
    "deletable": true,
    "editable": true
   },
   "outputs": [
    {
     "name": "stdout",
     "output_type": "stream",
     "text": [
      "Tests Passed\n"
     ]
    }
   ],
   "source": [
    "import numpy as np\n",
    "def flatten(x_tensor):\n",
    "    \"\"\"\n",
    "    Flatten x_tensor to (Batch Size, Flattened Image Size)\n",
    "    : x_tensor: A tensor of size (Batch Size, ...), where ... are the image dimensions.\n",
    "    : return: A tensor of size (Batch Size, Flattened Image Size).\n",
    "    \"\"\"\n",
    "    # TODO: Implement Function\n",
    "    \n",
    "    shape = x_tensor.get_shape().as_list()        \n",
    "    dim = np.prod(shape[1:])            \n",
    "    x2 = tf.reshape(x_tensor, [-1, dim])  \n",
    "    return x2\n",
    "\n",
    "\n",
    "\"\"\"\n",
    "DON'T MODIFY ANYTHING IN THIS CELL THAT IS BELOW THIS LINE\n",
    "\"\"\"\n",
    "tests.test_flatten(flatten)"
   ]
  },
  {
   "cell_type": "markdown",
   "metadata": {
    "deletable": true,
    "editable": true
   },
   "source": [
    "### Fully-Connected Layer\n",
    "Implement the `fully_conn` function to apply a fully connected layer to `x_tensor` with the shape (*Batch Size*, *num_outputs*). Shortcut option: you can use classes from the [TensorFlow Layers](https://www.tensorflow.org/api_docs/python/tf/layers) or [TensorFlow Layers (contrib)](https://www.tensorflow.org/api_guides/python/contrib.layers) packages for this layer. For more of a challenge, only use other TensorFlow packages."
   ]
  },
  {
   "cell_type": "code",
   "execution_count": 35,
   "metadata": {
    "collapsed": false,
    "deletable": true,
    "editable": true
   },
   "outputs": [
    {
     "name": "stdout",
     "output_type": "stream",
     "text": [
      "Tests Passed\n"
     ]
    }
   ],
   "source": [
    "def fully_conn(x_tensor, num_outputs):\n",
    "    \"\"\"\n",
    "    Apply a fully connected layer to x_tensor using weight and bias\n",
    "    : x_tensor: A 2-D tensor where the first dimension is batch size.\n",
    "    : num_outputs: The number of output that the new tensor should be.\n",
    "    : return: A 2-D tensor where the second dimension is num_outputs.\n",
    "    \"\"\"\n",
    "    # TODO: Implement Function\n",
    "    n_inputs = x_tensor.get_shape().as_list()[1] \n",
    "    weight_hidd=tf.Variable(tf.truncated_normal([n_inputs,num_outputs],stddev=0.1))\n",
    "    bias_hidd=tf.Variable(tf.zeros([num_outputs]))\n",
    "    hidd_layer_out=tf.add(tf.matmul(x_tensor,weight_hidd),bias_hidd)\n",
    "    hidd_layer_out=tf.nn.relu(hidd_layer_out)\n",
    "    return hidd_layer_out\n",
    "\n",
    "\n",
    "\"\"\"\n",
    "DON'T MODIFY ANYTHING IN THIS CELL THAT IS BELOW THIS LINE\n",
    "\"\"\"\n",
    "tests.test_fully_conn(fully_conn)"
   ]
  },
  {
   "cell_type": "markdown",
   "metadata": {
    "deletable": true,
    "editable": true
   },
   "source": [
    "### Output Layer\n",
    "Implement the `output` function to apply a fully connected layer to `x_tensor` with the shape (*Batch Size*, *num_outputs*). Shortcut option: you can use classes from the [TensorFlow Layers](https://www.tensorflow.org/api_docs/python/tf/layers) or [TensorFlow Layers (contrib)](https://www.tensorflow.org/api_guides/python/contrib.layers) packages for this layer. For more of a challenge, only use other TensorFlow packages.\n",
    "\n",
    "**Note:** Activation, softmax, or cross entropy should **not** be applied to this."
   ]
  },
  {
   "cell_type": "code",
   "execution_count": 36,
   "metadata": {
    "collapsed": false,
    "deletable": true,
    "editable": true
   },
   "outputs": [
    {
     "name": "stdout",
     "output_type": "stream",
     "text": [
      "Tests Passed\n"
     ]
    }
   ],
   "source": [
    "def output(x_tensor, num_outputs):\n",
    "    \"\"\"\n",
    "    Apply a output layer to x_tensor using weight and bias\n",
    "    : x_tensor: A 2-D tensor where the first dimension is batch size.\n",
    "    : num_outputs: The number of output that the new tensor should be.\n",
    "    : return: A 2-D tensor where the second dimension is num_outputs.\n",
    "    \"\"\"\n",
    "    # TODO: Implement Function\n",
    "    n_inputs = x_tensor.get_shape().as_list()[1] \n",
    "    weight_out=tf.Variable(tf.truncated_normal([n_inputs,num_outputs],stddev=0.1))\n",
    "    bias_out=tf.Variable(tf.zeros([num_outputs]))\n",
    "    hidd_layer_out=tf.add(tf.matmul(x_tensor,weight_out),bias_out)\n",
    "    return hidd_layer_out\n",
    "\n",
    "\n",
    "\"\"\"\n",
    "DON'T MODIFY ANYTHING IN THIS CELL THAT IS BELOW THIS LINE\n",
    "\"\"\"\n",
    "tests.test_output(output)"
   ]
  },
  {
   "cell_type": "markdown",
   "metadata": {
    "deletable": true,
    "editable": true
   },
   "source": [
    "### Create Convolutional Model\n",
    "Implement the function `conv_net` to create a convolutional neural network model. The function takes in a batch of images, `x`, and outputs logits.  Use the layers you created above to create this model:\n",
    "\n",
    "* Apply 1, 2, or 3 Convolution and Max Pool layers\n",
    "* Apply a Flatten Layer\n",
    "* Apply 1, 2, or 3 Fully Connected Layers\n",
    "* Apply an Output Layer\n",
    "* Return the output\n",
    "* Apply [TensorFlow's Dropout](https://www.tensorflow.org/api_docs/python/tf/nn/dropout) to one or more layers in the model using `keep_prob`. "
   ]
  },
  {
   "cell_type": "code",
   "execution_count": 37,
   "metadata": {
    "collapsed": false,
    "deletable": true,
    "editable": true
   },
   "outputs": [
    {
     "name": "stdout",
     "output_type": "stream",
     "text": [
      "Neural Network Built!\n"
     ]
    }
   ],
   "source": [
    "def conv_net(x, keep_prob):\n",
    "    \"\"\"\n",
    "    Create a convolutional neural network model\n",
    "    : x: Placeholder tensor that holds image data.\n",
    "    : keep_prob: Placeholder tensor that hold dropout keep probability.\n",
    "    : return: Tensor that represents logits\n",
    "    \"\"\"\n",
    "    # TODO: Apply 1, 2, or 3 Convolution and Max Pool layers\n",
    "    #    Play around with different number of outputs, kernel size and stride\n",
    "    # Function Definition from Above:\n",
    "    conv_num_outputs=30\n",
    "    conv_ksize=(4,4)\n",
    "    conv_strides=(2,2)\n",
    "    pool_ksize=(2,2)\n",
    "    pool_strides=(2,2)\n",
    "    # using 2 convolutional layers \n",
    "    conv_layer=conv2d_maxpool(x, conv_num_outputs, conv_ksize, conv_strides, pool_ksize, pool_strides)\n",
    "    conv_layer=conv2d_maxpool(conv_layer, conv_num_outputs, conv_ksize, conv_strides, pool_ksize, pool_strides)\n",
    "    \n",
    "    \n",
    "\n",
    "    # TODO: Apply a Flatten Layer\n",
    "    # Function Definition from Above:\n",
    "    x_flat=flatten(conv_layer)\n",
    "    \n",
    "\n",
    "    # TODO: Apply 1, 2, or 3 Fully Connected Layers\n",
    "    #    Play around with different number of outputs\n",
    "    # Function Definition from Above:\n",
    "    hidden_lay_out=fully_conn(x_flat,256)\n",
    "    hidden_lay_out=tf.nn.dropout(hidden_lay_out,keep_prob)\n",
    "    \n",
    "    # TODO: Apply an Output Layer\n",
    "    #    Set this to the number of classes\n",
    "    # Function Definition from Above:\n",
    "    y_pred=output(hidden_lay_out, 10)\n",
    "    \n",
    "    \n",
    "    # TODO: return output\n",
    "    return y_pred\n",
    "\n",
    "\n",
    "\"\"\"\n",
    "DON'T MODIFY ANYTHING IN THIS CELL THAT IS BELOW THIS LINE\n",
    "\"\"\"\n",
    "\n",
    "##############################\n",
    "## Build the Neural Network ##\n",
    "##############################\n",
    "\n",
    "# Remove previous weights, bias, inputs, etc..\n",
    "tf.reset_default_graph()\n",
    "\n",
    "# Inputs\n",
    "x = neural_net_image_input((32, 32, 3))\n",
    "y = neural_net_label_input(10)\n",
    "keep_prob = neural_net_keep_prob_input()\n",
    "\n",
    "# Model\n",
    "logits = conv_net(x, keep_prob)\n",
    "\n",
    "# Name logits Tensor, so that is can be loaded from disk after training\n",
    "logits = tf.identity(logits, name='logits')\n",
    "\n",
    "# Loss and Optimizer\n",
    "cost = tf.reduce_mean(tf.nn.softmax_cross_entropy_with_logits(logits=logits, labels=y))\n",
    "optimizer = tf.train.AdamOptimizer().minimize(cost)\n",
    "\n",
    "# Accuracy\n",
    "correct_pred = tf.equal(tf.argmax(logits, 1), tf.argmax(y, 1))\n",
    "accuracy = tf.reduce_mean(tf.cast(correct_pred, tf.float32), name='accuracy')\n",
    "\n",
    "tests.test_conv_net(conv_net)"
   ]
  },
  {
   "cell_type": "markdown",
   "metadata": {
    "deletable": true,
    "editable": true
   },
   "source": [
    "## Train the Neural Network\n",
    "### Single Optimization\n",
    "Implement the function `train_neural_network` to do a single optimization.  The optimization should use `optimizer` to optimize in `session` with a `feed_dict` of the following:\n",
    "* `x` for image input\n",
    "* `y` for labels\n",
    "* `keep_prob` for keep probability for dropout\n",
    "\n",
    "This function will be called for each batch, so `tf.global_variables_initializer()` has already been called.\n",
    "\n",
    "Note: Nothing needs to be returned. This function is only optimizing the neural network."
   ]
  },
  {
   "cell_type": "code",
   "execution_count": 38,
   "metadata": {
    "collapsed": false,
    "deletable": true,
    "editable": true
   },
   "outputs": [
    {
     "name": "stdout",
     "output_type": "stream",
     "text": [
      "Tests Passed\n"
     ]
    }
   ],
   "source": [
    "def train_neural_network(session, optimizer, keep_probability, feature_batch, label_batch):\n",
    "    \"\"\"\n",
    "    Optimize the session on a batch of images and labels\n",
    "    : session: Current TensorFlow session\n",
    "    : optimizer: TensorFlow optimizer function\n",
    "    : keep_probability: keep probability\n",
    "    : feature_batch: Batch of Numpy image data\n",
    "    : label_batch: Batch of Numpy label data\n",
    "    \"\"\"\n",
    "    # TODO: Implement Function\n",
    "    train_dict={x:feature_batch,\n",
    "                y:label_batch,\n",
    "                keep_prob:keep_probability}\n",
    "    session.run(optimizer,feed_dict=train_dict)\n",
    "    pass\n",
    "\n",
    "\n",
    "\"\"\"\n",
    "DON'T MODIFY ANYTHING IN THIS CELL THAT IS BELOW THIS LINE\n",
    "\"\"\"\n",
    "tests.test_train_nn(train_neural_network)"
   ]
  },
  {
   "cell_type": "markdown",
   "metadata": {
    "deletable": true,
    "editable": true
   },
   "source": [
    "### Show Stats\n",
    "Implement the function `print_stats` to print loss and validation accuracy.  Use the global variables `valid_features` and `valid_labels` to calculate validation accuracy.  Use a keep probability of `1.0` to calculate the loss and validation accuracy."
   ]
  },
  {
   "cell_type": "code",
   "execution_count": 44,
   "metadata": {
    "collapsed": true,
    "deletable": true,
    "editable": true
   },
   "outputs": [],
   "source": [
    "def print_stats(session, feature_batch, label_batch, cost, accuracy):\n",
    "    \"\"\"\n",
    "    Print information about loss and validation accuracy\n",
    "    : session: Current TensorFlow session\n",
    "    : feature_batch: Batch of Numpy image data\n",
    "    : label_batch: Batch of Numpy label data\n",
    "    : cost: TensorFlow cost function\n",
    "    : accuracy: TensorFlow accuracy function\n",
    "    \"\"\"\n",
    "    # TODO: Implement Function\n",
    "    train_dict_cost={x:feature_batch,\n",
    "                y:label_batch,\n",
    "                keep_prob:1.0}\n",
    "    \n",
    "    train_dict_acc={x:valid_features,\n",
    "                    y:valid_labels,\n",
    "                    keep_prob:1.0}\n",
    "    \n",
    "    cost=session.run(cost,feed_dict=train_dict_cost)\n",
    "    valid_acc=session.run(accuracy,feed_dict=train_dict_acc)\n",
    "    print('Cost: {:<8.3} Valid Accuracy: {:<5.3}'.format(\n",
    "    cost,\n",
    "    valid_acc))\n",
    "\n",
    "    pass"
   ]
  },
  {
   "cell_type": "markdown",
   "metadata": {
    "deletable": true,
    "editable": true
   },
   "source": [
    "### Hyperparameters\n",
    "Tune the following parameters:\n",
    "* Set `epochs` to the number of iterations until the network stops learning or start overfitting\n",
    "* Set `batch_size` to the highest number that your machine has memory for.  Most people set them to common sizes of memory:\n",
    " * 64\n",
    " * 128\n",
    " * 256\n",
    " * ...\n",
    "* Set `keep_probability` to the probability of keeping a node using dropout"
   ]
  },
  {
   "cell_type": "code",
   "execution_count": 40,
   "metadata": {
    "collapsed": true,
    "deletable": true,
    "editable": true
   },
   "outputs": [],
   "source": [
    "# TODO: Tune Parameters\n",
    "epochs = 50\n",
    "batch_size = 256\n",
    "keep_probability = 0.75"
   ]
  },
  {
   "cell_type": "markdown",
   "metadata": {
    "deletable": true,
    "editable": true
   },
   "source": [
    "### Train on a Single CIFAR-10 Batch\n",
    "Instead of training the neural network on all the CIFAR-10 batches of data, let's use a single batch. This should save time while you iterate on the model to get a better accuracy.  Once the final validation accuracy is 50% or greater, run the model on all the data in the next section."
   ]
  },
  {
   "cell_type": "code",
   "execution_count": 41,
   "metadata": {
    "collapsed": false,
    "deletable": true,
    "editable": true
   },
   "outputs": [
    {
     "name": "stdout",
     "output_type": "stream",
     "text": [
      "Checking the Training on a Single Batch...\n",
      "Epoch  1, CIFAR-10 Batch 1:  Cost: 2.12     Valid Accuracy: 0.255\n",
      "Epoch  2, CIFAR-10 Batch 1:  Cost: 2.08     Valid Accuracy: 0.326\n",
      "Epoch  3, CIFAR-10 Batch 1:  Cost: 1.97     Valid Accuracy: 0.369\n",
      "Epoch  4, CIFAR-10 Batch 1:  Cost: 1.89     Valid Accuracy: 0.376\n",
      "Epoch  5, CIFAR-10 Batch 1:  Cost: 1.77     Valid Accuracy: 0.403\n",
      "Epoch  6, CIFAR-10 Batch 1:  Cost: 1.68     Valid Accuracy: 0.417\n",
      "Epoch  7, CIFAR-10 Batch 1:  Cost: 1.59     Valid Accuracy: 0.432\n",
      "Epoch  8, CIFAR-10 Batch 1:  Cost: 1.5      Valid Accuracy: 0.446\n",
      "Epoch  9, CIFAR-10 Batch 1:  Cost: 1.41     Valid Accuracy: 0.454\n",
      "Epoch 10, CIFAR-10 Batch 1:  Cost: 1.32     Valid Accuracy: 0.455\n",
      "Epoch 11, CIFAR-10 Batch 1:  Cost: 1.31     Valid Accuracy: 0.459\n",
      "Epoch 12, CIFAR-10 Batch 1:  Cost: 1.19     Valid Accuracy: 0.481\n",
      "Epoch 13, CIFAR-10 Batch 1:  Cost: 1.12     Valid Accuracy: 0.492\n",
      "Epoch 14, CIFAR-10 Batch 1:  Cost: 1.05     Valid Accuracy: 0.49 \n",
      "Epoch 15, CIFAR-10 Batch 1:  Cost: 1.0      Valid Accuracy: 0.498\n",
      "Epoch 16, CIFAR-10 Batch 1:  Cost: 0.951    Valid Accuracy: 0.499\n",
      "Epoch 17, CIFAR-10 Batch 1:  Cost: 0.904    Valid Accuracy: 0.509\n",
      "Epoch 18, CIFAR-10 Batch 1:  Cost: 0.875    Valid Accuracy: 0.507\n",
      "Epoch 19, CIFAR-10 Batch 1:  Cost: 0.802    Valid Accuracy: 0.512\n",
      "Epoch 20, CIFAR-10 Batch 1:  Cost: 0.78     Valid Accuracy: 0.512\n",
      "Epoch 21, CIFAR-10 Batch 1:  Cost: 0.758    Valid Accuracy: 0.517\n",
      "Epoch 22, CIFAR-10 Batch 1:  Cost: 0.692    Valid Accuracy: 0.52 \n",
      "Epoch 23, CIFAR-10 Batch 1:  Cost: 0.666    Valid Accuracy: 0.522\n",
      "Epoch 24, CIFAR-10 Batch 1:  Cost: 0.65     Valid Accuracy: 0.518\n",
      "Epoch 25, CIFAR-10 Batch 1:  Cost: 0.613    Valid Accuracy: 0.522\n",
      "Epoch 26, CIFAR-10 Batch 1:  Cost: 0.572    Valid Accuracy: 0.53 \n",
      "Epoch 27, CIFAR-10 Batch 1:  Cost: 0.55     Valid Accuracy: 0.525\n",
      "Epoch 28, CIFAR-10 Batch 1:  Cost: 0.509    Valid Accuracy: 0.526\n",
      "Epoch 29, CIFAR-10 Batch 1:  Cost: 0.502    Valid Accuracy: 0.529\n",
      "Epoch 30, CIFAR-10 Batch 1:  Cost: 0.465    Valid Accuracy: 0.532\n",
      "Epoch 31, CIFAR-10 Batch 1:  Cost: 0.448    Valid Accuracy: 0.541\n",
      "Epoch 32, CIFAR-10 Batch 1:  Cost: 0.425    Valid Accuracy: 0.535\n",
      "Epoch 33, CIFAR-10 Batch 1:  Cost: 0.424    Valid Accuracy: 0.536\n",
      "Epoch 34, CIFAR-10 Batch 1:  Cost: 0.398    Valid Accuracy: 0.537\n",
      "Epoch 35, CIFAR-10 Batch 1:  Cost: 0.386    Valid Accuracy: 0.531\n",
      "Epoch 36, CIFAR-10 Batch 1:  Cost: 0.364    Valid Accuracy: 0.531\n",
      "Epoch 37, CIFAR-10 Batch 1:  Cost: 0.344    Valid Accuracy: 0.541\n",
      "Epoch 38, CIFAR-10 Batch 1:  Cost: 0.405    Valid Accuracy: 0.523\n",
      "Epoch 39, CIFAR-10 Batch 1:  Cost: 0.357    Valid Accuracy: 0.531\n",
      "Epoch 40, CIFAR-10 Batch 1:  Cost: 0.391    Valid Accuracy: 0.522\n",
      "Epoch 41, CIFAR-10 Batch 1:  Cost: 0.319    Valid Accuracy: 0.536\n",
      "Epoch 42, CIFAR-10 Batch 1:  Cost: 0.304    Valid Accuracy: 0.538\n",
      "Epoch 43, CIFAR-10 Batch 1:  Cost: 0.285    Valid Accuracy: 0.539\n",
      "Epoch 44, CIFAR-10 Batch 1:  Cost: 0.271    Valid Accuracy: 0.541\n",
      "Epoch 45, CIFAR-10 Batch 1:  Cost: 0.258    Valid Accuracy: 0.544\n",
      "Epoch 46, CIFAR-10 Batch 1:  Cost: 0.246    Valid Accuracy: 0.542\n",
      "Epoch 47, CIFAR-10 Batch 1:  Cost: 0.232    Valid Accuracy: 0.54 \n",
      "Epoch 48, CIFAR-10 Batch 1:  Cost: 0.228    Valid Accuracy: 0.532\n",
      "Epoch 49, CIFAR-10 Batch 1:  Cost: 0.221    Valid Accuracy: 0.53 \n",
      "Epoch 50, CIFAR-10 Batch 1:  Cost: 0.214    Valid Accuracy: 0.53 \n"
     ]
    }
   ],
   "source": [
    "\"\"\"\n",
    "DON'T MODIFY ANYTHING IN THIS CELL\n",
    "\"\"\"\n",
    "print('Checking the Training on a Single Batch...')\n",
    "with tf.Session() as sess:\n",
    "    # Initializing the variables\n",
    "    sess.run(tf.global_variables_initializer())\n",
    "    \n",
    "    # Training cycle\n",
    "    for epoch in range(epochs):\n",
    "        batch_i = 1\n",
    "        for batch_features, batch_labels in helper.load_preprocess_training_batch(batch_i, batch_size):\n",
    "            train_neural_network(sess, optimizer, keep_probability, batch_features, batch_labels)\n",
    "        print('Epoch {:>2}, CIFAR-10 Batch {}:  '.format(epoch + 1, batch_i), end='')\n",
    "        print_stats(sess, batch_features, batch_labels, cost, accuracy)"
   ]
  },
  {
   "cell_type": "markdown",
   "metadata": {
    "deletable": true,
    "editable": true
   },
   "source": [
    "### Fully Train the Model\n",
    "Now that you got a good accuracy with a single CIFAR-10 batch, try it with all five batches."
   ]
  },
  {
   "cell_type": "code",
   "execution_count": 42,
   "metadata": {
    "collapsed": false,
    "deletable": true,
    "editable": true
   },
   "outputs": [
    {
     "name": "stdout",
     "output_type": "stream",
     "text": [
      "Training...\n",
      "Epoch  1, CIFAR-10 Batch 1:  Cost: 2.16     Valid Accuracy: 0.259\n",
      "Epoch  1, CIFAR-10 Batch 2:  Cost: 2.03     Valid Accuracy: 0.307\n",
      "Epoch  1, CIFAR-10 Batch 3:  Cost: 1.68     Valid Accuracy: 0.354\n",
      "Epoch  1, CIFAR-10 Batch 4:  Cost: 1.65     Valid Accuracy: 0.389\n",
      "Epoch  1, CIFAR-10 Batch 5:  Cost: 1.74     Valid Accuracy: 0.401\n",
      "Epoch  2, CIFAR-10 Batch 1:  Cost: 1.95     Valid Accuracy: 0.415\n",
      "Epoch  2, CIFAR-10 Batch 2:  Cost: 1.81     Valid Accuracy: 0.433\n",
      "Epoch  2, CIFAR-10 Batch 3:  Cost: 1.32     Valid Accuracy: 0.422\n",
      "Epoch  2, CIFAR-10 Batch 4:  Cost: 1.45     Valid Accuracy: 0.435\n",
      "Epoch  2, CIFAR-10 Batch 5:  Cost: 1.61     Valid Accuracy: 0.457\n",
      "Epoch  3, CIFAR-10 Batch 1:  Cost: 1.75     Valid Accuracy: 0.468\n",
      "Epoch  3, CIFAR-10 Batch 2:  Cost: 1.66     Valid Accuracy: 0.476\n",
      "Epoch  3, CIFAR-10 Batch 3:  Cost: 1.19     Valid Accuracy: 0.448\n",
      "Epoch  3, CIFAR-10 Batch 4:  Cost: 1.35     Valid Accuracy: 0.472\n",
      "Epoch  3, CIFAR-10 Batch 5:  Cost: 1.5      Valid Accuracy: 0.488\n",
      "Epoch  4, CIFAR-10 Batch 1:  Cost: 1.59     Valid Accuracy: 0.496\n",
      "Epoch  4, CIFAR-10 Batch 2:  Cost: 1.52     Valid Accuracy: 0.504\n",
      "Epoch  4, CIFAR-10 Batch 3:  Cost: 1.06     Valid Accuracy: 0.483\n",
      "Epoch  4, CIFAR-10 Batch 4:  Cost: 1.27     Valid Accuracy: 0.497\n",
      "Epoch  4, CIFAR-10 Batch 5:  Cost: 1.37     Valid Accuracy: 0.507\n",
      "Epoch  5, CIFAR-10 Batch 1:  Cost: 1.46     Valid Accuracy: 0.516\n",
      "Epoch  5, CIFAR-10 Batch 2:  Cost: 1.41     Valid Accuracy: 0.523\n",
      "Epoch  5, CIFAR-10 Batch 3:  Cost: 0.972    Valid Accuracy: 0.509\n",
      "Epoch  5, CIFAR-10 Batch 4:  Cost: 1.2      Valid Accuracy: 0.521\n",
      "Epoch  5, CIFAR-10 Batch 5:  Cost: 1.24     Valid Accuracy: 0.515\n",
      "Epoch  6, CIFAR-10 Batch 1:  Cost: 1.35     Valid Accuracy: 0.527\n",
      "Epoch  6, CIFAR-10 Batch 2:  Cost: 1.32     Valid Accuracy: 0.53 \n",
      "Epoch  6, CIFAR-10 Batch 3:  Cost: 0.903    Valid Accuracy: 0.528\n",
      "Epoch  6, CIFAR-10 Batch 4:  Cost: 1.13     Valid Accuracy: 0.541\n",
      "Epoch  6, CIFAR-10 Batch 5:  Cost: 1.14     Valid Accuracy: 0.529\n",
      "Epoch  7, CIFAR-10 Batch 1:  Cost: 1.24     Valid Accuracy: 0.544\n",
      "Epoch  7, CIFAR-10 Batch 2:  Cost: 1.24     Valid Accuracy: 0.535\n",
      "Epoch  7, CIFAR-10 Batch 3:  Cost: 0.824    Valid Accuracy: 0.546\n",
      "Epoch  7, CIFAR-10 Batch 4:  Cost: 1.04     Valid Accuracy: 0.553\n",
      "Epoch  7, CIFAR-10 Batch 5:  Cost: 1.05     Valid Accuracy: 0.549\n",
      "Epoch  8, CIFAR-10 Batch 1:  Cost: 1.12     Valid Accuracy: 0.551\n",
      "Epoch  8, CIFAR-10 Batch 2:  Cost: 1.16     Valid Accuracy: 0.546\n",
      "Epoch  8, CIFAR-10 Batch 3:  Cost: 0.75     Valid Accuracy: 0.553\n",
      "Epoch  8, CIFAR-10 Batch 4:  Cost: 0.961    Valid Accuracy: 0.557\n",
      "Epoch  8, CIFAR-10 Batch 5:  Cost: 0.982    Valid Accuracy: 0.544\n",
      "Epoch  9, CIFAR-10 Batch 1:  Cost: 1.08     Valid Accuracy: 0.557\n",
      "Epoch  9, CIFAR-10 Batch 2:  Cost: 1.09     Valid Accuracy: 0.552\n",
      "Epoch  9, CIFAR-10 Batch 3:  Cost: 0.723    Valid Accuracy: 0.558\n",
      "Epoch  9, CIFAR-10 Batch 4:  Cost: 0.915    Valid Accuracy: 0.563\n",
      "Epoch  9, CIFAR-10 Batch 5:  Cost: 0.922    Valid Accuracy: 0.558\n",
      "Epoch 10, CIFAR-10 Batch 1:  Cost: 1.04     Valid Accuracy: 0.558\n",
      "Epoch 10, CIFAR-10 Batch 2:  Cost: 1.04     Valid Accuracy: 0.564\n",
      "Epoch 10, CIFAR-10 Batch 3:  Cost: 0.66     Valid Accuracy: 0.568\n",
      "Epoch 10, CIFAR-10 Batch 4:  Cost: 0.859    Valid Accuracy: 0.571\n",
      "Epoch 10, CIFAR-10 Batch 5:  Cost: 0.862    Valid Accuracy: 0.568\n",
      "Epoch 11, CIFAR-10 Batch 1:  Cost: 0.958    Valid Accuracy: 0.569\n",
      "Epoch 11, CIFAR-10 Batch 2:  Cost: 0.971    Valid Accuracy: 0.577\n",
      "Epoch 11, CIFAR-10 Batch 3:  Cost: 0.626    Valid Accuracy: 0.573\n",
      "Epoch 11, CIFAR-10 Batch 4:  Cost: 0.789    Valid Accuracy: 0.576\n",
      "Epoch 11, CIFAR-10 Batch 5:  Cost: 0.828    Valid Accuracy: 0.572\n",
      "Epoch 12, CIFAR-10 Batch 1:  Cost: 0.925    Valid Accuracy: 0.573\n",
      "Epoch 12, CIFAR-10 Batch 2:  Cost: 0.899    Valid Accuracy: 0.583\n",
      "Epoch 12, CIFAR-10 Batch 3:  Cost: 0.588    Valid Accuracy: 0.577\n",
      "Epoch 12, CIFAR-10 Batch 4:  Cost: 0.763    Valid Accuracy: 0.577\n",
      "Epoch 12, CIFAR-10 Batch 5:  Cost: 0.749    Valid Accuracy: 0.575\n",
      "Epoch 13, CIFAR-10 Batch 1:  Cost: 0.877    Valid Accuracy: 0.576\n",
      "Epoch 13, CIFAR-10 Batch 2:  Cost: 0.841    Valid Accuracy: 0.574\n",
      "Epoch 13, CIFAR-10 Batch 3:  Cost: 0.575    Valid Accuracy: 0.582\n",
      "Epoch 13, CIFAR-10 Batch 4:  Cost: 0.713    Valid Accuracy: 0.586\n",
      "Epoch 13, CIFAR-10 Batch 5:  Cost: 0.708    Valid Accuracy: 0.586\n",
      "Epoch 14, CIFAR-10 Batch 1:  Cost: 0.837    Valid Accuracy: 0.573\n",
      "Epoch 14, CIFAR-10 Batch 2:  Cost: 0.815    Valid Accuracy: 0.586\n",
      "Epoch 14, CIFAR-10 Batch 3:  Cost: 0.534    Valid Accuracy: 0.587\n",
      "Epoch 14, CIFAR-10 Batch 4:  Cost: 0.673    Valid Accuracy: 0.591\n",
      "Epoch 14, CIFAR-10 Batch 5:  Cost: 0.666    Valid Accuracy: 0.59 \n",
      "Epoch 15, CIFAR-10 Batch 1:  Cost: 0.794    Valid Accuracy: 0.584\n",
      "Epoch 15, CIFAR-10 Batch 2:  Cost: 0.767    Valid Accuracy: 0.587\n",
      "Epoch 15, CIFAR-10 Batch 3:  Cost: 0.527    Valid Accuracy: 0.593\n",
      "Epoch 15, CIFAR-10 Batch 4:  Cost: 0.641    Valid Accuracy: 0.589\n",
      "Epoch 15, CIFAR-10 Batch 5:  Cost: 0.63     Valid Accuracy: 0.598\n",
      "Epoch 16, CIFAR-10 Batch 1:  Cost: 0.749    Valid Accuracy: 0.583\n",
      "Epoch 16, CIFAR-10 Batch 2:  Cost: 0.709    Valid Accuracy: 0.593\n",
      "Epoch 16, CIFAR-10 Batch 3:  Cost: 0.512    Valid Accuracy: 0.588\n",
      "Epoch 16, CIFAR-10 Batch 4:  Cost: 0.595    Valid Accuracy: 0.598\n",
      "Epoch 16, CIFAR-10 Batch 5:  Cost: 0.606    Valid Accuracy: 0.6  \n",
      "Epoch 17, CIFAR-10 Batch 1:  Cost: 0.708    Valid Accuracy: 0.59 \n",
      "Epoch 17, CIFAR-10 Batch 2:  Cost: 0.673    Valid Accuracy: 0.602\n",
      "Epoch 17, CIFAR-10 Batch 3:  Cost: 0.497    Valid Accuracy: 0.59 \n",
      "Epoch 17, CIFAR-10 Batch 4:  Cost: 0.574    Valid Accuracy: 0.601\n",
      "Epoch 17, CIFAR-10 Batch 5:  Cost: 0.567    Valid Accuracy: 0.595\n",
      "Epoch 18, CIFAR-10 Batch 1:  Cost: 0.675    Valid Accuracy: 0.595\n",
      "Epoch 18, CIFAR-10 Batch 2:  Cost: 0.631    Valid Accuracy: 0.599\n",
      "Epoch 18, CIFAR-10 Batch 3:  Cost: 0.469    Valid Accuracy: 0.598\n",
      "Epoch 18, CIFAR-10 Batch 4:  Cost: 0.515    Valid Accuracy: 0.609\n",
      "Epoch 18, CIFAR-10 Batch 5:  Cost: 0.547    Valid Accuracy: 0.61 \n",
      "Epoch 19, CIFAR-10 Batch 1:  Cost: 0.668    Valid Accuracy: 0.601\n",
      "Epoch 19, CIFAR-10 Batch 2:  Cost: 0.6      Valid Accuracy: 0.606\n",
      "Epoch 19, CIFAR-10 Batch 3:  Cost: 0.452    Valid Accuracy: 0.603\n",
      "Epoch 19, CIFAR-10 Batch 4:  Cost: 0.501    Valid Accuracy: 0.612\n",
      "Epoch 19, CIFAR-10 Batch 5:  Cost: 0.5      Valid Accuracy: 0.604\n",
      "Epoch 20, CIFAR-10 Batch 1:  Cost: 0.632    Valid Accuracy: 0.606\n",
      "Epoch 20, CIFAR-10 Batch 2:  Cost: 0.57     Valid Accuracy: 0.601\n",
      "Epoch 20, CIFAR-10 Batch 3:  Cost: 0.439    Valid Accuracy: 0.603\n",
      "Epoch 20, CIFAR-10 Batch 4:  Cost: 0.462    Valid Accuracy: 0.611\n",
      "Epoch 20, CIFAR-10 Batch 5:  Cost: 0.49     Valid Accuracy: 0.61 \n",
      "Epoch 21, CIFAR-10 Batch 1:  Cost: 0.604    Valid Accuracy: 0.605\n",
      "Epoch 21, CIFAR-10 Batch 2:  Cost: 0.546    Valid Accuracy: 0.603\n",
      "Epoch 21, CIFAR-10 Batch 3:  Cost: 0.414    Valid Accuracy: 0.611\n",
      "Epoch 21, CIFAR-10 Batch 4:  Cost: 0.469    Valid Accuracy: 0.616\n",
      "Epoch 21, CIFAR-10 Batch 5:  Cost: 0.454    Valid Accuracy: 0.613\n",
      "Epoch 22, CIFAR-10 Batch 1:  Cost: 0.554    Valid Accuracy: 0.616\n",
      "Epoch 22, CIFAR-10 Batch 2:  Cost: 0.503    Valid Accuracy: 0.609\n",
      "Epoch 22, CIFAR-10 Batch 3:  Cost: 0.403    Valid Accuracy: 0.614\n",
      "Epoch 22, CIFAR-10 Batch 4:  Cost: 0.444    Valid Accuracy: 0.623\n",
      "Epoch 22, CIFAR-10 Batch 5:  Cost: 0.439    Valid Accuracy: 0.624\n",
      "Epoch 23, CIFAR-10 Batch 1:  Cost: 0.543    Valid Accuracy: 0.599\n",
      "Epoch 23, CIFAR-10 Batch 2:  Cost: 0.505    Valid Accuracy: 0.609\n",
      "Epoch 23, CIFAR-10 Batch 3:  Cost: 0.394    Valid Accuracy: 0.611\n",
      "Epoch 23, CIFAR-10 Batch 4:  Cost: 0.417    Valid Accuracy: 0.622\n",
      "Epoch 23, CIFAR-10 Batch 5:  Cost: 0.419    Valid Accuracy: 0.625\n",
      "Epoch 24, CIFAR-10 Batch 1:  Cost: 0.501    Valid Accuracy: 0.616\n",
      "Epoch 24, CIFAR-10 Batch 2:  Cost: 0.472    Valid Accuracy: 0.618\n",
      "Epoch 24, CIFAR-10 Batch 3:  Cost: 0.372    Valid Accuracy: 0.623\n",
      "Epoch 24, CIFAR-10 Batch 4:  Cost: 0.404    Valid Accuracy: 0.627\n",
      "Epoch 24, CIFAR-10 Batch 5:  Cost: 0.406    Valid Accuracy: 0.63 \n",
      "Epoch 25, CIFAR-10 Batch 1:  Cost: 0.475    Valid Accuracy: 0.612\n",
      "Epoch 25, CIFAR-10 Batch 2:  Cost: 0.462    Valid Accuracy: 0.62 \n",
      "Epoch 25, CIFAR-10 Batch 3:  Cost: 0.363    Valid Accuracy: 0.622\n",
      "Epoch 25, CIFAR-10 Batch 4:  Cost: 0.386    Valid Accuracy: 0.628\n",
      "Epoch 25, CIFAR-10 Batch 5:  Cost: 0.397    Valid Accuracy: 0.627\n",
      "Epoch 26, CIFAR-10 Batch 1:  Cost: 0.462    Valid Accuracy: 0.618\n",
      "Epoch 26, CIFAR-10 Batch 2:  Cost: 0.445    Valid Accuracy: 0.626\n",
      "Epoch 26, CIFAR-10 Batch 3:  Cost: 0.344    Valid Accuracy: 0.627\n",
      "Epoch 26, CIFAR-10 Batch 4:  Cost: 0.365    Valid Accuracy: 0.632\n",
      "Epoch 26, CIFAR-10 Batch 5:  Cost: 0.386    Valid Accuracy: 0.633\n",
      "Epoch 27, CIFAR-10 Batch 1:  Cost: 0.425    Valid Accuracy: 0.622\n",
      "Epoch 27, CIFAR-10 Batch 2:  Cost: 0.41     Valid Accuracy: 0.629\n",
      "Epoch 27, CIFAR-10 Batch 3:  Cost: 0.349    Valid Accuracy: 0.623\n",
      "Epoch 27, CIFAR-10 Batch 4:  Cost: 0.36     Valid Accuracy: 0.631\n",
      "Epoch 27, CIFAR-10 Batch 5:  Cost: 0.361    Valid Accuracy: 0.634\n",
      "Epoch 28, CIFAR-10 Batch 1:  Cost: 0.436    Valid Accuracy: 0.631\n",
      "Epoch 28, CIFAR-10 Batch 2:  Cost: 0.4      Valid Accuracy: 0.629\n",
      "Epoch 28, CIFAR-10 Batch 3:  Cost: 0.34     Valid Accuracy: 0.628\n",
      "Epoch 28, CIFAR-10 Batch 4:  Cost: 0.337    Valid Accuracy: 0.632\n",
      "Epoch 28, CIFAR-10 Batch 5:  Cost: 0.338    Valid Accuracy: 0.64 \n",
      "Epoch 29, CIFAR-10 Batch 1:  Cost: 0.401    Valid Accuracy: 0.631\n",
      "Epoch 29, CIFAR-10 Batch 2:  Cost: 0.393    Valid Accuracy: 0.631\n",
      "Epoch 29, CIFAR-10 Batch 3:  Cost: 0.333    Valid Accuracy: 0.632\n",
      "Epoch 29, CIFAR-10 Batch 4:  Cost: 0.31     Valid Accuracy: 0.631\n",
      "Epoch 29, CIFAR-10 Batch 5:  Cost: 0.337    Valid Accuracy: 0.636\n",
      "Epoch 30, CIFAR-10 Batch 1:  Cost: 0.377    Valid Accuracy: 0.635\n",
      "Epoch 30, CIFAR-10 Batch 2:  Cost: 0.37     Valid Accuracy: 0.634\n",
      "Epoch 30, CIFAR-10 Batch 3:  Cost: 0.324    Valid Accuracy: 0.63 \n",
      "Epoch 30, CIFAR-10 Batch 4:  Cost: 0.313    Valid Accuracy: 0.635\n",
      "Epoch 30, CIFAR-10 Batch 5:  Cost: 0.32     Valid Accuracy: 0.641\n",
      "Epoch 31, CIFAR-10 Batch 1:  Cost: 0.356    Valid Accuracy: 0.638\n",
      "Epoch 31, CIFAR-10 Batch 2:  Cost: 0.332    Valid Accuracy: 0.635\n",
      "Epoch 31, CIFAR-10 Batch 3:  Cost: 0.311    Valid Accuracy: 0.629\n",
      "Epoch 31, CIFAR-10 Batch 4:  Cost: 0.307    Valid Accuracy: 0.635\n",
      "Epoch 31, CIFAR-10 Batch 5:  Cost: 0.304    Valid Accuracy: 0.638\n",
      "Epoch 32, CIFAR-10 Batch 1:  Cost: 0.342    Valid Accuracy: 0.638\n",
      "Epoch 32, CIFAR-10 Batch 2:  Cost: 0.353    Valid Accuracy: 0.636\n",
      "Epoch 32, CIFAR-10 Batch 3:  Cost: 0.306    Valid Accuracy: 0.632\n",
      "Epoch 32, CIFAR-10 Batch 4:  Cost: 0.287    Valid Accuracy: 0.64 \n",
      "Epoch 32, CIFAR-10 Batch 5:  Cost: 0.303    Valid Accuracy: 0.644\n",
      "Epoch 33, CIFAR-10 Batch 1:  Cost: 0.342    Valid Accuracy: 0.637\n",
      "Epoch 33, CIFAR-10 Batch 2:  Cost: 0.335    Valid Accuracy: 0.643\n",
      "Epoch 33, CIFAR-10 Batch 3:  Cost: 0.291    Valid Accuracy: 0.638\n",
      "Epoch 33, CIFAR-10 Batch 4:  Cost: 0.269    Valid Accuracy: 0.642\n",
      "Epoch 33, CIFAR-10 Batch 5:  Cost: 0.304    Valid Accuracy: 0.638\n",
      "Epoch 34, CIFAR-10 Batch 1:  Cost: 0.34     Valid Accuracy: 0.631\n",
      "Epoch 34, CIFAR-10 Batch 2:  Cost: 0.335    Valid Accuracy: 0.64 \n",
      "Epoch 34, CIFAR-10 Batch 3:  Cost: 0.279    Valid Accuracy: 0.639\n",
      "Epoch 34, CIFAR-10 Batch 4:  Cost: 0.256    Valid Accuracy: 0.642\n",
      "Epoch 34, CIFAR-10 Batch 5:  Cost: 0.315    Valid Accuracy: 0.645\n",
      "Epoch 35, CIFAR-10 Batch 1:  Cost: 0.331    Valid Accuracy: 0.636\n",
      "Epoch 35, CIFAR-10 Batch 2:  Cost: 0.33     Valid Accuracy: 0.634\n",
      "Epoch 35, CIFAR-10 Batch 3:  Cost: 0.277    Valid Accuracy: 0.638\n",
      "Epoch 35, CIFAR-10 Batch 4:  Cost: 0.25     Valid Accuracy: 0.646\n",
      "Epoch 35, CIFAR-10 Batch 5:  Cost: 0.291    Valid Accuracy: 0.642\n",
      "Epoch 36, CIFAR-10 Batch 1:  Cost: 0.315    Valid Accuracy: 0.635\n",
      "Epoch 36, CIFAR-10 Batch 2:  Cost: 0.306    Valid Accuracy: 0.642\n",
      "Epoch 36, CIFAR-10 Batch 3:  Cost: 0.271    Valid Accuracy: 0.634\n",
      "Epoch 36, CIFAR-10 Batch 4:  Cost: 0.24     Valid Accuracy: 0.644\n",
      "Epoch 36, CIFAR-10 Batch 5:  Cost: 0.275    Valid Accuracy: 0.646\n",
      "Epoch 37, CIFAR-10 Batch 1:  Cost: 0.304    Valid Accuracy: 0.633\n",
      "Epoch 37, CIFAR-10 Batch 2:  Cost: 0.309    Valid Accuracy: 0.643\n",
      "Epoch 37, CIFAR-10 Batch 3:  Cost: 0.241    Valid Accuracy: 0.641\n",
      "Epoch 37, CIFAR-10 Batch 4:  Cost: 0.23     Valid Accuracy: 0.648\n",
      "Epoch 37, CIFAR-10 Batch 5:  Cost: 0.256    Valid Accuracy: 0.648\n",
      "Epoch 38, CIFAR-10 Batch 1:  Cost: 0.295    Valid Accuracy: 0.637\n",
      "Epoch 38, CIFAR-10 Batch 2:  Cost: 0.303    Valid Accuracy: 0.637\n",
      "Epoch 38, CIFAR-10 Batch 3:  Cost: 0.229    Valid Accuracy: 0.642\n",
      "Epoch 38, CIFAR-10 Batch 4:  Cost: 0.235    Valid Accuracy: 0.647\n",
      "Epoch 38, CIFAR-10 Batch 5:  Cost: 0.235    Valid Accuracy: 0.65 \n",
      "Epoch 39, CIFAR-10 Batch 1:  Cost: 0.282    Valid Accuracy: 0.634\n",
      "Epoch 39, CIFAR-10 Batch 2:  Cost: 0.268    Valid Accuracy: 0.645\n",
      "Epoch 39, CIFAR-10 Batch 3:  Cost: 0.223    Valid Accuracy: 0.642\n",
      "Epoch 39, CIFAR-10 Batch 4:  Cost: 0.233    Valid Accuracy: 0.648\n",
      "Epoch 39, CIFAR-10 Batch 5:  Cost: 0.246    Valid Accuracy: 0.652\n",
      "Epoch 40, CIFAR-10 Batch 1:  Cost: 0.277    Valid Accuracy: 0.629\n",
      "Epoch 40, CIFAR-10 Batch 2:  Cost: 0.271    Valid Accuracy: 0.643\n",
      "Epoch 40, CIFAR-10 Batch 3:  Cost: 0.219    Valid Accuracy: 0.638\n",
      "Epoch 40, CIFAR-10 Batch 4:  Cost: 0.214    Valid Accuracy: 0.648\n",
      "Epoch 40, CIFAR-10 Batch 5:  Cost: 0.233    Valid Accuracy: 0.656\n",
      "Epoch 41, CIFAR-10 Batch 1:  Cost: 0.265    Valid Accuracy: 0.635\n",
      "Epoch 41, CIFAR-10 Batch 2:  Cost: 0.286    Valid Accuracy: 0.644\n",
      "Epoch 41, CIFAR-10 Batch 3:  Cost: 0.208    Valid Accuracy: 0.643\n",
      "Epoch 41, CIFAR-10 Batch 4:  Cost: 0.23     Valid Accuracy: 0.646\n",
      "Epoch 41, CIFAR-10 Batch 5:  Cost: 0.214    Valid Accuracy: 0.648\n",
      "Epoch 42, CIFAR-10 Batch 1:  Cost: 0.252    Valid Accuracy: 0.635\n",
      "Epoch 42, CIFAR-10 Batch 2:  Cost: 0.257    Valid Accuracy: 0.64 \n",
      "Epoch 42, CIFAR-10 Batch 3:  Cost: 0.2      Valid Accuracy: 0.64 \n",
      "Epoch 42, CIFAR-10 Batch 4:  Cost: 0.214    Valid Accuracy: 0.647\n",
      "Epoch 42, CIFAR-10 Batch 5:  Cost: 0.216    Valid Accuracy: 0.65 \n",
      "Epoch 43, CIFAR-10 Batch 1:  Cost: 0.237    Valid Accuracy: 0.632\n",
      "Epoch 43, CIFAR-10 Batch 2:  Cost: 0.259    Valid Accuracy: 0.644\n",
      "Epoch 43, CIFAR-10 Batch 3:  Cost: 0.199    Valid Accuracy: 0.634\n",
      "Epoch 43, CIFAR-10 Batch 4:  Cost: 0.207    Valid Accuracy: 0.649\n",
      "Epoch 43, CIFAR-10 Batch 5:  Cost: 0.199    Valid Accuracy: 0.656\n",
      "Epoch 44, CIFAR-10 Batch 1:  Cost: 0.24     Valid Accuracy: 0.633\n",
      "Epoch 44, CIFAR-10 Batch 2:  Cost: 0.242    Valid Accuracy: 0.648\n",
      "Epoch 44, CIFAR-10 Batch 3:  Cost: 0.192    Valid Accuracy: 0.64 \n",
      "Epoch 44, CIFAR-10 Batch 4:  Cost: 0.215    Valid Accuracy: 0.646\n",
      "Epoch 44, CIFAR-10 Batch 5:  Cost: 0.195    Valid Accuracy: 0.652\n",
      "Epoch 45, CIFAR-10 Batch 1:  Cost: 0.234    Valid Accuracy: 0.638\n",
      "Epoch 45, CIFAR-10 Batch 2:  Cost: 0.245    Valid Accuracy: 0.645\n",
      "Epoch 45, CIFAR-10 Batch 3:  Cost: 0.182    Valid Accuracy: 0.635\n",
      "Epoch 45, CIFAR-10 Batch 4:  Cost: 0.19     Valid Accuracy: 0.65 \n",
      "Epoch 45, CIFAR-10 Batch 5:  Cost: 0.163    Valid Accuracy: 0.644\n",
      "Epoch 46, CIFAR-10 Batch 1:  Cost: 0.218    Valid Accuracy: 0.635\n",
      "Epoch 46, CIFAR-10 Batch 2:  Cost: 0.238    Valid Accuracy: 0.645\n",
      "Epoch 46, CIFAR-10 Batch 3:  Cost: 0.191    Valid Accuracy: 0.638\n",
      "Epoch 46, CIFAR-10 Batch 4:  Cost: 0.198    Valid Accuracy: 0.646\n",
      "Epoch 46, CIFAR-10 Batch 5:  Cost: 0.182    Valid Accuracy: 0.65 \n",
      "Epoch 47, CIFAR-10 Batch 1:  Cost: 0.219    Valid Accuracy: 0.63 \n",
      "Epoch 47, CIFAR-10 Batch 2:  Cost: 0.229    Valid Accuracy: 0.645\n",
      "Epoch 47, CIFAR-10 Batch 3:  Cost: 0.185    Valid Accuracy: 0.64 \n",
      "Epoch 47, CIFAR-10 Batch 4:  Cost: 0.186    Valid Accuracy: 0.65 \n",
      "Epoch 47, CIFAR-10 Batch 5:  Cost: 0.171    Valid Accuracy: 0.651\n",
      "Epoch 48, CIFAR-10 Batch 1:  Cost: 0.207    Valid Accuracy: 0.637\n",
      "Epoch 48, CIFAR-10 Batch 2:  Cost: 0.212    Valid Accuracy: 0.648\n",
      "Epoch 48, CIFAR-10 Batch 3:  Cost: 0.192    Valid Accuracy: 0.628\n",
      "Epoch 48, CIFAR-10 Batch 4:  Cost: 0.179    Valid Accuracy: 0.645\n",
      "Epoch 48, CIFAR-10 Batch 5:  Cost: 0.168    Valid Accuracy: 0.647\n",
      "Epoch 49, CIFAR-10 Batch 1:  Cost: 0.204    Valid Accuracy: 0.639\n",
      "Epoch 49, CIFAR-10 Batch 2:  Cost: 0.205    Valid Accuracy: 0.648\n",
      "Epoch 49, CIFAR-10 Batch 3:  Cost: 0.191    Valid Accuracy: 0.639\n",
      "Epoch 49, CIFAR-10 Batch 4:  Cost: 0.179    Valid Accuracy: 0.648\n",
      "Epoch 49, CIFAR-10 Batch 5:  Cost: 0.158    Valid Accuracy: 0.652\n",
      "Epoch 50, CIFAR-10 Batch 1:  Cost: 0.219    Valid Accuracy: 0.635\n",
      "Epoch 50, CIFAR-10 Batch 2:  Cost: 0.191    Valid Accuracy: 0.65 \n",
      "Epoch 50, CIFAR-10 Batch 3:  Cost: 0.171    Valid Accuracy: 0.636\n",
      "Epoch 50, CIFAR-10 Batch 4:  Cost: 0.158    Valid Accuracy: 0.648\n",
      "Epoch 50, CIFAR-10 Batch 5:  Cost: 0.159    Valid Accuracy: 0.65 \n"
     ]
    }
   ],
   "source": [
    "\"\"\"\n",
    "DON'T MODIFY ANYTHING IN THIS CELL\n",
    "\"\"\"\n",
    "save_model_path = './image_classification'\n",
    "\n",
    "print('Training...')\n",
    "with tf.Session() as sess:\n",
    "    # Initializing the variables\n",
    "    sess.run(tf.global_variables_initializer())\n",
    "    \n",
    "    # Training cycle\n",
    "    for epoch in range(epochs):\n",
    "        # Loop over all batches\n",
    "        n_batches = 5\n",
    "        for batch_i in range(1, n_batches + 1):\n",
    "            for batch_features, batch_labels in helper.load_preprocess_training_batch(batch_i, batch_size):\n",
    "                train_neural_network(sess, optimizer, keep_probability, batch_features, batch_labels)\n",
    "            print('Epoch {:>2}, CIFAR-10 Batch {}:  '.format(epoch + 1, batch_i), end='')\n",
    "            print_stats(sess, batch_features, batch_labels, cost, accuracy)\n",
    "            \n",
    "    # Save Model\n",
    "    saver = tf.train.Saver()\n",
    "    save_path = saver.save(sess, save_model_path)"
   ]
  },
  {
   "cell_type": "markdown",
   "metadata": {
    "deletable": true,
    "editable": true
   },
   "source": [
    "# Checkpoint\n",
    "The model has been saved to disk.\n",
    "## Test Model\n",
    "Test your model against the test dataset.  This will be your final accuracy. You should have an accuracy greater than 50%. If you don't, keep tweaking the model architecture and parameters."
   ]
  },
  {
   "cell_type": "code",
   "execution_count": 43,
   "metadata": {
    "collapsed": false,
    "deletable": true,
    "editable": true
   },
   "outputs": [
    {
     "name": "stdout",
     "output_type": "stream",
     "text": [
      "INFO:tensorflow:Restoring parameters from ./image_classification\n",
      "Testing Accuracy: 0.6462890625\n",
      "\n"
     ]
    },
    {
     "data": {
      "image/png": "[encoded data removed]",
      "text/plain": [
       "<matplotlib.figure.Figure at 0x126c0f7b8>"
      ]
     },
     "metadata": {
      "image/png": {
       "height": 319,
       "width": 355
      }
     },
     "output_type": "display_data"
    }
   ],
   "source": [
    "\"\"\"\n",
    "DON'T MODIFY ANYTHING IN THIS CELL\n",
    "\"\"\"\n",
    "%matplotlib inline\n",
    "%config InlineBackend.figure_format = 'retina'\n",
    "\n",
    "import tensorflow as tf\n",
    "import pickle\n",
    "import helper\n",
    "import random\n",
    "\n",
    "# Set batch size if not already set\n",
    "try:\n",
    "    if batch_size:\n",
    "        pass\n",
    "except NameError:\n",
    "    batch_size = 64\n",
    "\n",
    "save_model_path = './image_classification'\n",
    "n_samples = 4\n",
    "top_n_predictions = 3\n",
    "\n",
    "def test_model():\n",
    "    \"\"\"\n",
    "    Test the saved model against the test dataset\n",
    "    \"\"\"\n",
    "\n",
    "    test_features, test_labels = pickle.load(open('preprocess_test.p', mode='rb'))\n",
    "    loaded_graph = tf.Graph()\n",
    "\n",
    "    with tf.Session(graph=loaded_graph) as sess:\n",
    "        # Load model\n",
    "        loader = tf.train.import_meta_graph(save_model_path + '.meta')\n",
    "        loader.restore(sess, save_model_path)\n",
    "\n",
    "        # Get Tensors from loaded model\n",
    "        loaded_x = loaded_graph.get_tensor_by_name('x:0')\n",
    "        loaded_y = loaded_graph.get_tensor_by_name('y:0')\n",
    "        loaded_keep_prob = loaded_graph.get_tensor_by_name('keep_prob:0')\n",
    "        loaded_logits = loaded_graph.get_tensor_by_name('logits:0')\n",
    "        loaded_acc = loaded_graph.get_tensor_by_name('accuracy:0')\n",
    "        \n",
    "        # Get accuracy in batches for memory limitations\n",
    "        test_batch_acc_total = 0\n",
    "        test_batch_count = 0\n",
    "        \n",
    "        for test_feature_batch, test_label_batch in helper.batch_features_labels(test_features, test_labels, batch_size):\n",
    "            test_batch_acc_total += sess.run(\n",
    "                loaded_acc,\n",
    "                feed_dict={loaded_x: test_feature_batch, loaded_y: test_label_batch, loaded_keep_prob: 1.0})\n",
    "            test_batch_count += 1\n",
    "\n",
    "        print('Testing Accuracy: {}\\n'.format(test_batch_acc_total/test_batch_count))\n",
    "\n",
    "        # Print Random Samples\n",
    "        random_test_features, random_test_labels = tuple(zip(*random.sample(list(zip(test_features, test_labels)), n_samples)))\n",
    "        random_test_predictions = sess.run(\n",
    "            tf.nn.top_k(tf.nn.softmax(loaded_logits), top_n_predictions),\n",
    "            feed_dict={loaded_x: random_test_features, loaded_y: random_test_labels, loaded_keep_prob: 1.0})\n",
    "        helper.display_image_predictions(random_test_features, random_test_labels, random_test_predictions)\n",
    "\n",
    "\n",
    "test_model()"
   ]
  },
  {
   "cell_type": "markdown",
   "metadata": {
    "deletable": true,
    "editable": true
   },
   "source": [
    "## Why 50-80% Accuracy?\n",
    "You might be wondering why you can't get an accuracy any higher. First things first, 50% isn't bad for a simple CNN.  Pure guessing would get you 10% accuracy. However, you might notice people are getting scores [well above 80%](http://rodrigob.github.io/are_we_there_yet/build/classification_datasets_results.html#43494641522d3130).  That's because we haven't taught you all there is to know about neural networks. We still need to cover a few more techniques.\n",
    "## Submitting This Project\n",
    "When submitting this project, make sure to run all the cells before saving the notebook.  Save the notebook file as \"dlnd_image_classification.ipynb\" and save it as a HTML file under \"File\" -> \"Download as\".  Include the \"helper.py\" and \"problem_unittests.py\" files in your submission."
   ]
  }
 ],
 "metadata": {
  "kernelspec": {
   "display_name": "Python 3",
   "language": "python",
   "name": "python3"
  },
  "language_info": {
   "codemirror_mode": {
    "name": "ipython",
    "version": 3
   },
   "file_extension": ".py",
   "mimetype": "text/x-python",
   "name": "python",
   "nbconvert_exporter": "python",
   "pygments_lexer": "ipython3",
   "version": "3.5.2"
  }
 },
 "nbformat": 4,
 "nbformat_minor": 1
}
